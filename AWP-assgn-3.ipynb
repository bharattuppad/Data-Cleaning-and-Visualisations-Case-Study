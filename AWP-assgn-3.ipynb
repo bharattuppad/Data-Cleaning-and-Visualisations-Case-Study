{
 "cells": [
  {
   "cell_type": "markdown",
   "id": "651f2965",
   "metadata": {},
   "source": [
    "# QSN: List the steps to create a 1D array and 2D array"
   ]
  },
  {
   "cell_type": "markdown",
   "id": "197b889d",
   "metadata": {},
   "source": [
    "1D array is an array which has 0D elements\n",
    "1D array can be created by using arange function or simply by passing a list of numbers in the array creation function\n",
    "for example:"
   ]
  },
  {
   "cell_type": "code",
   "execution_count": 1,
   "id": "b122eaac",
   "metadata": {},
   "outputs": [],
   "source": [
    "import numpy as np"
   ]
  },
  {
   "cell_type": "code",
   "execution_count": 3,
   "id": "6cc82cee",
   "metadata": {},
   "outputs": [
    {
     "name": "stdout",
     "output_type": "stream",
     "text": [
      "[0 1 2 3 4]\n",
      "1\n"
     ]
    }
   ],
   "source": [
    "a=np.array([0,1,2,3,4])\n",
    "print(a)\n",
    "print(a.ndim)"
   ]
  },
  {
   "cell_type": "markdown",
   "id": "d8a59bdc",
   "metadata": {},
   "source": [
    "2D array is an array which has 1D elements\n",
    "2D array can be created by using array creation function.\n",
    "for example:"
   ]
  },
  {
   "cell_type": "code",
   "execution_count": 9,
   "id": "e83852d0",
   "metadata": {},
   "outputs": [
    {
     "data": {
      "text/plain": [
       "array([0, 1, 2, 3])"
      ]
     },
     "execution_count": 9,
     "metadata": {},
     "output_type": "execute_result"
    }
   ],
   "source": [
    "b=np.arange(4)\n",
    "b"
   ]
  },
  {
   "cell_type": "code",
   "execution_count": 10,
   "id": "af4dc622",
   "metadata": {},
   "outputs": [],
   "source": [
    "b.shape=(2,2)"
   ]
  },
  {
   "cell_type": "code",
   "execution_count": 11,
   "id": "608a58b5",
   "metadata": {},
   "outputs": [
    {
     "data": {
      "text/plain": [
       "array([[0, 1],\n",
       "       [2, 3]])"
      ]
     },
     "execution_count": 11,
     "metadata": {},
     "output_type": "execute_result"
    }
   ],
   "source": [
    "b"
   ]
  },
  {
   "cell_type": "code",
   "execution_count": 12,
   "id": "7b11b825",
   "metadata": {},
   "outputs": [
    {
     "data": {
      "text/plain": [
       "2"
      ]
     },
     "execution_count": 12,
     "metadata": {},
     "output_type": "execute_result"
    }
   ],
   "source": [
    "b.ndim"
   ]
  }
 ],
 "metadata": {
  "kernelspec": {
   "display_name": "Python 3 (ipykernel)",
   "language": "python",
   "name": "python3"
  },
  "language_info": {
   "codemirror_mode": {
    "name": "ipython",
    "version": 3
   },
   "file_extension": ".py",
   "mimetype": "text/x-python",
   "name": "python",
   "nbconvert_exporter": "python",
   "pygments_lexer": "ipython3",
   "version": "3.10.4"
  }
 },
 "nbformat": 4,
 "nbformat_minor": 5
}
